{
  "nbformat": 4,
  "nbformat_minor": 0,
  "metadata": {
    "colab": {
      "provenance": [],
      "collapsed_sections": [],
      "authorship_tag": "ABX9TyOhk7jQR46NebBujuiZjvD5"
    },
    "kernelspec": {
      "name": "python3",
      "display_name": "Python 3"
    },
    "language_info": {
      "name": "python"
    }
  },
  "cells": [
    {
      "cell_type": "markdown",
      "source": [
        "# Boyer-Moore preprocessing\n",
        "\n",
        "\n",
        "---\n",
        "\n",
        "\n",
        "Adapted and Enhanced by Anna Sai, 0ctober 2022\n",
        "\n",
        "Gratitude - Original Author: Ben Langmead"
      ],
      "metadata": {
        "id": "KR53Y-Y6xWjl"
      }
    },
    {
      "cell_type": "code",
      "source": [
        "import unittest\n",
        "\n",
        "def readGenome(filename):\n",
        "  # read FASTA\n",
        "    genome = ''\n",
        "    with open(filename, 'r') as f:\n",
        "        for line in f:\n",
        "            # ignore header line with genome information\n",
        "            if not line[0] == '>':\n",
        "                genome += line.rstrip()\n",
        "    return genome\n",
        "\n",
        "def z_array(s):\n",
        "    \"\"\" Use Z algorithm (Gusfield theorem 1.4.1) to preprocess s \"\"\"\n",
        "    assert len(s) > 1\n",
        "    z = [len(s)] + [0] * (len(s)-1)\n",
        "\n",
        "    # Initial comparison of s[1:] with prefix\n",
        "    for i in range(1, len(s)):\n",
        "        if s[i] == s[i-1]:\n",
        "            z[1] += 1\n",
        "        else:\n",
        "            break\n",
        "\n",
        "    r, l = 0, 0\n",
        "    if z[1] > 0:\n",
        "        r, l = z[1], 1\n",
        "\n",
        "    for k in range(2, len(s)):\n",
        "        assert z[k] == 0\n",
        "        if k > r:\n",
        "            # Case 1\n",
        "            for i in range(k, len(s)):\n",
        "                if s[i] == s[i-k]:\n",
        "                    z[k] += 1\n",
        "                else:\n",
        "                    break\n",
        "            r, l = k + z[k] - 1, k\n",
        "        else:\n",
        "            # Case 2\n",
        "            # Calculate length of beta\n",
        "            nbeta = r - k + 1\n",
        "            zkp = z[k - l]\n",
        "            if nbeta > zkp:\n",
        "                # Case 2a: zkp wins\n",
        "                z[k] = zkp\n",
        "            else:\n",
        "                # Case 2b: Compare characters just past r\n",
        "                nmatch = 0\n",
        "                for i in range(r+1, len(s)):\n",
        "                    if s[i] == s[i - k]:\n",
        "                        nmatch += 1\n",
        "                    else:\n",
        "                        break\n",
        "                l, r = k, r + nmatch\n",
        "                z[k] = r - k + 1\n",
        "    return z\n",
        "\n",
        "\n",
        "def n_array(s):\n",
        "    \"\"\" Compile the N array (Gusfield theorem 2.2.2) from the Z array \"\"\"\n",
        "    return z_array(s[::-1])[::-1]\n",
        "\n",
        "\n",
        "def big_l_prime_array(p, n):\n",
        "    \"\"\" Compile L' array (Gusfield theorem 2.2.2) using p and N array.\n",
        "        L'[i] = largest index j less than n such that N[j] = |P[i:]| \"\"\"\n",
        "    lp = [0] * len(p)\n",
        "    for j in range(len(p)-1):\n",
        "        i = len(p) - n[j]\n",
        "        if i < len(p):\n",
        "            lp[i] = j + 1\n",
        "    return lp\n",
        "\n",
        "\n",
        "def big_l_array(p, lp):\n",
        "    \"\"\" Compile L array (Gusfield theorem 2.2.2) using p and L' array.\n",
        "        L[i] = largest index j less than n such that N[j] >= |P[i:]| \"\"\"\n",
        "    l = [0] * len(p)\n",
        "    l[1] = lp[1]\n",
        "    for i in range(2, len(p)):\n",
        "        l[i] = max(l[i-1], lp[i])\n",
        "    return l\n",
        "\n",
        "\n",
        "def small_l_prime_array(n):\n",
        "    \"\"\" Compile lp' array (Gusfield theorem 2.2.4) using N array. \"\"\"\n",
        "    small_lp = [0] * len(n)\n",
        "    for i in range(len(n)):\n",
        "        if n[i] == i+1:  # prefix matching a suffix\n",
        "            small_lp[len(n)-i-1] = i+1\n",
        "    for i in range(len(n)-2, -1, -1):  # \"smear\" them out to the left\n",
        "        if small_lp[i] == 0:\n",
        "            small_lp[i] = small_lp[i+1]\n",
        "    return small_lp\n",
        "\n",
        "\n",
        "def good_suffix_table(p):\n",
        "    \"\"\" Return tables needed to apply good suffix rule. \"\"\"\n",
        "    n = n_array(p)\n",
        "    lp = big_l_prime_array(p, n)\n",
        "    return lp, big_l_array(p, lp), small_l_prime_array(n)\n",
        "\n",
        "\n",
        "def good_suffix_mismatch(i, big_l_prime, small_l_prime):\n",
        "    \"\"\" Given a mismatch at offset i, and given L/L' and l' arrays,\n",
        "        return amount to shift as determined by good suffix rule. \"\"\"\n",
        "    length = len(big_l_prime)\n",
        "    assert i < length\n",
        "    if i == length - 1:\n",
        "        return 0\n",
        "    i += 1  # i points to leftmost matching position of P\n",
        "    if big_l_prime[i] > 0:\n",
        "        return length - big_l_prime[i]\n",
        "    return length - small_l_prime[i]\n",
        "\n",
        "\n",
        "def good_suffix_match(small_l_prime):\n",
        "    \"\"\" Given a full match of P to T, return amount to shift as\n",
        "        determined by good suffix rule. \"\"\"\n",
        "    return len(small_l_prime) - small_l_prime[1]\n",
        "\n",
        "\n",
        "def dense_bad_char_tab(p, amap):\n",
        "    \"\"\" Given pattern string and list with ordered alphabet characters, create\n",
        "        and return a dense bad character table.  Table is indexed by offset\n",
        "        then by character. \"\"\"\n",
        "    tab = []\n",
        "    nxt = [0] * len(amap)\n",
        "    for i in range(0, len(p)):\n",
        "        c = p[i]\n",
        "        assert c in amap\n",
        "        tab.append(nxt[:])\n",
        "        nxt[amap[c]] = i+1\n",
        "    return tab\n",
        "\n",
        "\n",
        "\n",
        "class BoyerMoore(object):\n",
        "    \"\"\" Encapsulates pattern and associated Boyer-Moore preprocessing. \"\"\"\n",
        "\n",
        "    def __init__(self, p, alphabet='ACGT'):\n",
        "        # Create map from alphabet characters to integers\n",
        "        self.amap = {alphabet[i]: i for i in range(len(alphabet))}\n",
        "        # Make bad character rule table\n",
        "        self.bad_char = dense_bad_char_tab(p, self.amap)\n",
        "        # Create good suffix rule table\n",
        "        _, self.big_l, self.small_l_prime = good_suffix_table(p)\n",
        "\n",
        "    def bad_character_rule(self, i, c):\n",
        "        \"\"\" Return # skips given by bad character rule at offset i \"\"\"\n",
        "        assert c in self.amap\n",
        "        assert i < len(self.bad_char)\n",
        "        ci = self.amap[c]\n",
        "        return i - (self.bad_char[i][ci]-1)\n",
        "\n",
        "    def good_suffix_rule(self, i):\n",
        "        \"\"\" Given a mismatch at offset i, return amount to shift\n",
        "            as determined by (weak) good suffix rule. \"\"\"\n",
        "        length = len(self.big_l)\n",
        "        assert i < length\n",
        "        if i == length - 1:\n",
        "            return 0\n",
        "        i += 1  # i points to leftmost matching position of P\n",
        "        if self.big_l[i] > 0:\n",
        "            return length - self.big_l[i]\n",
        "        return length - self.small_l_prime[i]\n",
        "\n",
        "    def match_skip(self):\n",
        "        \"\"\" Return amount to shift in case where P matches T \"\"\"\n",
        "        return len(self.small_l_prime) - self.small_l_prime[1]\n",
        "\n",
        "\n"
      ],
      "metadata": {
        "id": "ggqK4LMOxYR1"
      },
      "execution_count": null,
      "outputs": []
    },
    {
      "cell_type": "markdown",
      "source": [
        "Implement versions of the naive exact matching and Boyer-Moore algorithms that additionally count and return (a) the number of character comparisons performed and (b) the number of alignments tried. Roughly speaking, these measure how much work the two different algorithms are doing."
      ],
      "metadata": {
        "id": "R1-qDpLP2rDr"
      }
    },
    {
      "cell_type": "code",
      "source": [
        "def naive_with_counts(p, t):\n",
        "    occurrences = []\n",
        "    count_chr = 0\n",
        "    count_align = 0\n",
        "    for i in range(len(t) - len(p) + 1):\n",
        "        count_align += 1\n",
        "        match = True\n",
        "        for j in range(len(p)):\n",
        "            count_chr += 1\n",
        "            if t[i+j] != p[j]:\n",
        "                match = False\n",
        "                break\n",
        "        if match:\n",
        "            occurrences.append(i)\n",
        "    return occurrences, count_align, count_chr\n",
        "\n",
        "\n",
        "def boyer_moore_with_counts(p, p_bm, t):\n",
        "    \"\"\" Do Boyer-Moore matching. p=pattern, t=text,\n",
        "        p_bm=BoyerMoore object for p \"\"\"\n",
        "    i = 0\n",
        "    occurrences = []\n",
        "    count_chr = 0\n",
        "    count_align = 0\n",
        "    while i < len(t) - len(p) + 1:\n",
        "        count_align += 1\n",
        "        shift = 1\n",
        "        mismatched = False\n",
        "        for j in range(len(p)-1, -1, -1):\n",
        "            count_chr += 1\n",
        "            if p[j] != t[i+j]:\n",
        "                skip_bc = p_bm.bad_character_rule(j, t[i+j])\n",
        "                skip_gs = p_bm.good_suffix_rule(j)\n",
        "                shift = max(shift, skip_bc, skip_gs)\n",
        "                mismatched = True\n",
        "                break\n",
        "        if not mismatched:\n",
        "            occurrences.append(i)\n",
        "            skip_gs = p_bm.match_skip()\n",
        "            shift = max(shift, skip_gs)\n",
        "        i += shift\n",
        "    return occurrences, count_align, count_chr"
      ],
      "metadata": {
        "id": "rgNvH4Nr2rqu"
      },
      "execution_count": null,
      "outputs": []
    },
    {
      "cell_type": "code",
      "source": [
        "genome_file = 'chr1.GRCh38.excerpt.fasta'\n",
        "\n",
        "t = readGenome(genome_file)"
      ],
      "metadata": {
        "id": "Ar20yUMakhlM"
      },
      "execution_count": null,
      "outputs": []
    },
    {
      "cell_type": "markdown",
      "source": [
        "#Question 1\n",
        "How many alignments does the naive exact matching algorithm try when matching the string GGCGCGGTGGCTCACGCCTGTAATCCCAGCACTTTGGGAGGCCGAGG (derived from human Alu sequences) to the excerpt of human chromosome 1?  (Don't consider reverse complements.)\n",
        "#Question 2\n",
        "How many character comparisons does the naive exact matching algorithm try when matching the string GGCGCGGTGGCTCACGCCTGTAATCCCAGCACTTTGGGAGGCCGAGG (derived from human Alu sequences) to the excerpt of human chromosome 1?  (Don't consider reverse complements.)"
      ],
      "metadata": {
        "id": "rxjLW0BewuNZ"
      }
    },
    {
      "cell_type": "code",
      "source": [
        "p = 'GGCGCGGTGGCTCACGCCTGTAATCCCAGCACTTTGGGAGGCCGAGG'\n",
        "\n",
        "occurrences, num_alignments, num_character_comparisons = naive_with_counts(p, t)\n",
        "print(\"Naive Exact occurrences, number of alignments try, number of charcter comparisons try:\\n\", occurrences[0], num_alignments, num_character_comparisons)\n"
      ],
      "metadata": {
        "colab": {
          "base_uri": "https://localhost:8080/"
        },
        "id": "wykKhxdtw83f",
        "outputId": "055f260c-4f0d-4c39-d040-7996bb1be979"
      },
      "execution_count": null,
      "outputs": [
        {
          "output_type": "stream",
          "name": "stdout",
          "text": [
            "Naive Exact occurrences, number of alignments try, number of charcter comparisons try:\n",
            " 56922 799954 984143\n"
          ]
        }
      ]
    },
    {
      "cell_type": "markdown",
      "source": [
        "#Question 3\n",
        "How many alignments does Boyer-Moore try when matching the string GGCGCGGTGGCTCACGCCTGTAATCCCAGCACTTTGGGAGGCCGAGG (derived from human Alu sequences) to the excerpt of human chromosome 1?  (Don't consider reverse complements.)"
      ],
      "metadata": {
        "id": "GbvJafg_nDjq"
      }
    },
    {
      "cell_type": "code",
      "source": [
        "p_bm = BoyerMoore(p, alphabet='ACGT')\n",
        "occurrences, num_alignments, num_character_comparisons = boyer_moore_with_counts(p, p_bm, t)\n",
        "print(\"BoyerMoore occurrences, number of alignments try, number of charcter comparisons try:\\n\", occurrences[0], num_alignments, num_character_comparisons)\n"
      ],
      "metadata": {
        "colab": {
          "base_uri": "https://localhost:8080/"
        },
        "id": "bJnWrybyntMS",
        "outputId": "f516527d-9033-4dc2-c7cd-0a7bfaa627bd"
      },
      "execution_count": null,
      "outputs": [
        {
          "output_type": "stream",
          "name": "stdout",
          "text": [
            "BoyerMoore occurrences, number of alignments try, number of charcter comparisons try:\n",
            " 56922 127974 165191\n"
          ]
        }
      ]
    },
    {
      "cell_type": "markdown",
      "source": [
        "#Question 4\n",
        "Write a function that, given a length-24 pattern P and given an Index object built on 8-mers, finds all approximate occurrences of P within T with up to 2 mismatches. Insertions and deletions are not allowed. Don't consider any reverse complements.\n",
        "\n",
        "Hint 1: Multiple index hits might direct you to the same match multiple times, but be careful not to count a match more than once.\n",
        "\n",
        "Hint 2: You can check your work by comparing the output of your new function to that of the \\verb|naive_2mm|naive_2mm function implemented in the previous module."
      ],
      "metadata": {
        "id": "DhSTVU67oeSz"
      }
    },
    {
      "cell_type": "code",
      "source": [
        "import bisect\n",
        "\n",
        "\n",
        "def naive_2mm(p, t):\n",
        "    occurrences = []\n",
        "    for i in range(len(t) - len(p) + 1):  # loop over alignments\n",
        "        count_mismatch = 0\n",
        "        for j in range(len(p)):  # loop over characters\n",
        "            if t[i+j] != p[j]:  # compare characters\n",
        "                count_mismatch += 1\n",
        "        if count_mismatch <= 2:\n",
        "            occurrences.append(i)  # all chars matched; record\n",
        "    return occurrences\n",
        "\n",
        "\n",
        "def approximate_match(p, t, n):\n",
        "    segment_length = int(round(len(p) / (n + 1)))\n",
        "    all_matches = set()\n",
        "    p_idx = Index(t, segment_length)\n",
        "    idx_hits = 0\n",
        "    for i in range(n + 1):\n",
        "        start = i * segment_length\n",
        "        end = min((i + 1) * segment_length, len(p))\n",
        "        matches = p_idx.query(p[start:end])\n",
        "\n",
        "        # Extend matching segments to see if whole p matches\n",
        "        for m in matches:\n",
        "            idx_hits += 1\n",
        "            if m < start or m - start + len(p) > len(t):\n",
        "                continue\n",
        "\n",
        "            mismatches = 0\n",
        "\n",
        "            for j in range(0, start):\n",
        "                if not p[j] == t[m - start + j]:\n",
        "                    mismatches += 1\n",
        "                    if mismatches > n:\n",
        "                        break\n",
        "            for j in range(end, len(p)):\n",
        "                if not p[j] == t[m - start + j]:\n",
        "                    mismatches += 1\n",
        "                    if mismatches > n:\n",
        "                        break\n",
        "\n",
        "            if mismatches <= n:\n",
        "                all_matches.add(m - start)\n",
        "    return list(all_matches), idx_hits\n",
        "\n",
        "\n",
        "def approximate_match_subseq(p, t, n, ival):\n",
        "    segment_length = int(round(len(p) / (n + 1)))\n",
        "    all_matches = set()\n",
        "    p_idx = SubseqIndex(t, segment_length, ival)\n",
        "    idx_hits = 0\n",
        "    for i in range(n + 1):\n",
        "        start = i\n",
        "        matches = p_idx.query(p[start:])\n",
        "\n",
        "        # Extend matching segments to see if whole p matches\n",
        "        for m in matches:\n",
        "            idx_hits += 1\n",
        "            if m < start or m - start + len(p) > len(t):\n",
        "                continue\n",
        "\n",
        "            mismatches = 0\n",
        "\n",
        "            for j in range(0, len(p)):\n",
        "                if not p[j] == t[m - start + j]:\n",
        "                    mismatches += 1\n",
        "                    if mismatches > n:\n",
        "                        break\n",
        "\n",
        "            if mismatches <= n:\n",
        "                all_matches.add(m - start)\n",
        "    return list(all_matches), idx_hits\n",
        "\n",
        "\n",
        "# class Index is provided by instructor Ben Langmead\n",
        "class Index(object):\n",
        "    \"\"\" Holds a substring index for a text T \"\"\"\n",
        "\n",
        "    def __init__(self, t, k):\n",
        "        \"\"\" Create index from all substrings of t of length k \"\"\"\n",
        "        self.k = k  # k-mer length (k)\n",
        "        self.index = []\n",
        "        for i in range(len(t) - k + 1):  # for each k-mer\n",
        "            self.index.append((t[i:i+k], i))  # add (k-mer, offset) pair\n",
        "        self.index.sort()  # alphabetize by k-mer\n",
        "\n",
        "    def query(self, p):\n",
        "        \"\"\" Return index hits for first k-mer of p \"\"\"\n",
        "        kmer = p[:self.k]  # query with first k-mer\n",
        "        i = bisect.bisect_left(self.index, (kmer, -1))  # binary search\n",
        "        hits = []\n",
        "        while i < len(self.index):  # collect matching index entries\n",
        "            if self.index[i][0] != kmer:\n",
        "                break\n",
        "            hits.append(self.index[i][1])\n",
        "            i += 1\n",
        "        return hits\n",
        "\n",
        "\n"
      ],
      "metadata": {
        "id": "5rqXooH_odaq"
      },
      "execution_count": null,
      "outputs": []
    },
    {
      "cell_type": "code",
      "source": [
        "p = 'GGCGCGGTGGCTCACGCCTGTAAT'\n",
        "\n",
        "# Using naive_2mm to check the result.\n",
        "print(\"Occurence with up to 2 substitutions using Naive Exact:\", len(naive_2mm(p, t)))"
      ],
      "metadata": {
        "colab": {
          "base_uri": "https://localhost:8080/"
        },
        "id": "Q3OtonmSsKHm",
        "outputId": "0f0cff99-3f6c-472d-f0ad-63c616eba45d"
      },
      "execution_count": null,
      "outputs": [
        {
          "output_type": "stream",
          "name": "stdout",
          "text": [
            "Occurence with up to 2 substitutions using Naive Exact: 19\n"
          ]
        }
      ]
    },
    {
      "cell_type": "markdown",
      "source": [
        "How many times does the string GGCGCGGTGGCTCACGCCTGTAAT, which is derived from a human Alu sequence, occur with up to 2 substitutions in the excerpt of human chromosome 1?  (Don't consider reverse complements here.)"
      ],
      "metadata": {
        "id": "nvQB3_iurzP5"
      }
    },
    {
      "cell_type": "code",
      "source": [
        "matches, hit_num = approximate_match(p, t, 2)\n",
        "\n",
        "# Question 4\n",
        "print(\"Occurence with up to 2 substitutions using Boyer Moore:\", len(matches))"
      ],
      "metadata": {
        "colab": {
          "base_uri": "https://localhost:8080/"
        },
        "id": "iTBQqZ-4rnau",
        "outputId": "83c04c0f-e494-4566-95e0-62ef585521df"
      },
      "execution_count": null,
      "outputs": [
        {
          "output_type": "stream",
          "name": "stdout",
          "text": [
            "Occurence with up to 2 substitutions using Boyer Moore: 19\n"
          ]
        }
      ]
    },
    {
      "cell_type": "markdown",
      "source": [
        "#Question 5\n",
        "Using the instructions given in Question 4, how many total index hits are there when searching for occurrences of GGCGCGGTGGCTCACGCCTGTAAT with up to 2 substitutions in the excerpt of human chromosome 1? (Don't consider reverse complements.)\n",
        "\n",
        "Hint: You should be able to use the boyer_moore function (or the slower naive function) to double-check your answer."
      ],
      "metadata": {
        "id": "U8EwhXVLsSqu"
      }
    },
    {
      "cell_type": "code",
      "source": [
        "print(\"Total index hits with up to 2 substitutions:\", hit_num)"
      ],
      "metadata": {
        "colab": {
          "base_uri": "https://localhost:8080/"
        },
        "id": "mCIWdPFasnk8",
        "outputId": "d8297015-3929-41a8-eb3d-61118adda56b"
      },
      "execution_count": null,
      "outputs": [
        {
          "output_type": "stream",
          "name": "stdout",
          "text": [
            "Total index hits with up to 2 substitutions: 90\n"
          ]
        }
      ]
    },
    {
      "cell_type": "markdown",
      "source": [
        "#Question 6\n",
        "Write a function that, given a length-24 pattern P and given a SubseqIndex object built with k = 8 and ival = 3, finds all approximate occurrences of P within T with up to 2 mismatches."
      ],
      "metadata": {
        "id": "ypLCmNnytOhz"
      }
    },
    {
      "cell_type": "code",
      "source": [
        "class SubseqIndex(object):\n",
        "    \"\"\" Holds a subsequence index for a text T \"\"\"\n",
        "\n",
        "    def __init__(self, t, k, ival):\n",
        "        \"\"\" Create index from all subsequences consisting of k characters\n",
        "            spaced ival positions apart.  E.g., SubseqIndex(\"ATAT\", 2, 2)\n",
        "            extracts (\"AA\", 0) and (\"TT\", 1). \"\"\"\n",
        "        self.k = k  # num characters per subsequence extracted\n",
        "        self.ival = ival  # space between them; 1=adjacent, 2=every other, etc\n",
        "        self.index = []\n",
        "        self.span = 1 + ival * (k - 1)\n",
        "        for i in range(len(t) - self.span + 1):  # for each subseq\n",
        "            self.index.append((t[i:i + self.span:ival], i))  # add (subseq, offset)\n",
        "        self.index.sort()  # alphabetize by subseq\n",
        "\n",
        "    def query(self, p):\n",
        "        \"\"\" Return index hits for first subseq of p \"\"\"\n",
        "        subseq = p[:self.span:self.ival]  # query with first subseq\n",
        "        i = bisect.bisect_left(self.index, (subseq, -1))  # binary search\n",
        "        hits = []\n",
        "        while i < len(self.index):  # collect matching index entries\n",
        "            if self.index[i][0] != subseq:\n",
        "                break\n",
        "            hits.append(self.index[i][1])\n",
        "            i += 1\n",
        "        return hits\n",
        "\n",
        "def approximate_match_subseq(p, t, n, ival):\n",
        "    segment_length = int(round(len(p) / (n + 1)))\n",
        "    all_matches = set()\n",
        "    p_idx = SubseqIndex(t, segment_length, ival)\n",
        "    idx_hits = 0\n",
        "    for i in range(n + 1):\n",
        "        start = i\n",
        "        matches = p_idx.query(p[start:])\n",
        "\n",
        "        # Extend matching segments to see if whole p matches\n",
        "        for m in matches:\n",
        "            idx_hits += 1\n",
        "            if m < start or m - start + len(p) > len(t):\n",
        "                continue\n",
        "\n",
        "            mismatches = 0\n",
        "\n",
        "            for j in range(0, len(p)):\n",
        "                if not p[j] == t[m - start + j]:\n",
        "                    mismatches += 1\n",
        "                    if mismatches > n:\n",
        "                        break\n",
        "\n",
        "            if mismatches <= n:\n",
        "                all_matches.add(m - start)\n",
        "    return list(all_matches), idx_hits"
      ],
      "metadata": {
        "id": "z4Y9a1bGtOwy"
      },
      "execution_count": null,
      "outputs": []
    },
    {
      "cell_type": "markdown",
      "source": [
        "When using this function, how many total index hits are there when searching for GGCGCGGTGGCTCACGCCTGTAAT with up to 2 substitutions in the excerpt of human chromosome 1?  (Again, don't consider reverse complements.)"
      ],
      "metadata": {
        "id": "5YZkXbbaurwJ"
      }
    },
    {
      "cell_type": "code",
      "source": [
        "print(\"Total index hits with up to 2 substitutions, using subsequences:\", approximate_match_subseq(p, t, 2, 3)[1])"
      ],
      "metadata": {
        "colab": {
          "base_uri": "https://localhost:8080/"
        },
        "id": "8sIIK97AuJNd",
        "outputId": "db1a8eac-1d94-4d5a-b8c0-b895fc7d892f"
      },
      "execution_count": null,
      "outputs": [
        {
          "output_type": "stream",
          "name": "stdout",
          "text": [
            "Total index hits with up to 2 substitutions, using subsequences: 79\n"
          ]
        }
      ]
    }
  ]
}